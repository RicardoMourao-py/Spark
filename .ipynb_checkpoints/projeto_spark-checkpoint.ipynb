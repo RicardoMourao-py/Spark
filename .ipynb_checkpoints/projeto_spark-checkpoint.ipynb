{
 "cells": [
  {
   "cell_type": "markdown",
   "id": "251923fa",
   "metadata": {},
   "source": [
    "# Projeto Spark\n",
    "\n",
    "Entrega: 31 de maio de 2023"
   ]
  },
  {
   "cell_type": "markdown",
   "id": "6725c153",
   "metadata": {
    "tags": []
   },
   "source": [
    "## Introdução\n",
    "\n",
    "Neste projeto vamos construir um classificador Naive-Bayes para determinar o sentimento de um comentário."
   ]
  },
  {
   "cell_type": "markdown",
   "id": "9d8a5ab0",
   "metadata": {},
   "source": [
    "## Grupos\n",
    "\n",
    "O projeto pode ser individual ou em duplas. Criem os grupos em https://classroom.github.com/a/EdbpYF9x"
   ]
  },
  {
   "cell_type": "markdown",
   "id": "2ba293c9",
   "metadata": {},
   "source": [
    "## Instalando o ambiente"
   ]
  },
  {
   "cell_type": "markdown",
   "id": "4f13bb1c",
   "metadata": {},
   "source": [
    "O jeito mais simples de começar a trabalhar com Spark é instalar um container com tudo pronto! No site https://hub.docker.com/r/jupyter/pyspark-notebook vemos uma imagem Docker que já vem com `pyspark` e `jupyter lab`. Instale a imagem com o comando:\n",
    "\n",
    "```bash\n",
    "docker pull jupyter/pyspark-notebook\n",
    "```\n",
    "\n",
    "Vamos iniciar o ambiente de trabalho com o comando `docker run`. Para isso precisamos tomar alguns cuidados:\n",
    "\n",
    "1) Temos que mapear nosso diretorio local de trabalho para um diretório interno do container, de modo que alterações feitas dentro do container (nesta pasta escolhida) sejam gravadas no nosso diretorio local. No container temos um usuário padrão com *username* `jovyan`. No *homedir* desse usuario temos uma pasta vazia `work`, que vai servir como local de mapeamento do nosso diretorio local de trabalho. Podemos então fazer esse mapeamendo com a opção `-v` do comando `docker run` da seguinte forma:\n",
    "\n",
    "```bash\n",
    "-v <diretorio>:/home/jovyan/work\n",
    "```\n",
    "\n",
    "onde `<diretorio>` representa seu diretorio local de trabalho.\n",
    "\n",
    "2) Para acessar o `jupyter notebook` e o *dashboard* do Spark a partir do nosso *browser* favorito temos que abrir algumas portas do container com a opção `-p`. As portas são `8888` (para o próprio `jupyter notebook`) e `4040` (para o *dashboard* do Spark). Ou seja, adicionaremos às opções do `docker run`o seguinte:\n",
    "\n",
    "```bash\n",
    "-p 8888:8888 -p 4040:4040\n",
    "```\n",
    "\n",
    "Desta forma, ao acessar `localhost:8888` na nossa máquina, estaremos acessando o servidor Jupyter na porta 8888 interna do container.\n",
    "\n",
    "3) Vamos iniciar o container no modo interativo, e vamos especificar que o container deve ser encerrado ao fechar o servidor Jupyter. Faremos isso com as opções `-it` e `-rm`\n",
    "\n",
    "Portanto, o comando completo que eu uso na minha máquina Linux para iniciar o container é:\n",
    "\n",
    "```bash\n",
    "docker run \\\n",
    "    -it \\\n",
    "    --rm \\\n",
    "    -p 8888:8888 \\\n",
    "    -p 4040:4040 \\\n",
    "    -v \"`pwd`\":/home/jovyan/work \\\n",
    "    jupyter/pyspark-notebook\n",
    "```\n",
    "\n",
    "Para facilitar a vida eu coloco esse comando em um arquivo `inicia.sh`. Engenheiros, façam do jeito que preferirem!\n",
    "\n",
    "Agora abra esse notebook lá no container!\n"
   ]
  },
  {
   "cell_type": "markdown",
   "id": "5d3906a7",
   "metadata": {},
   "source": [
    "## Iniciando o Spark"
   ]
  },
  {
   "cell_type": "markdown",
   "id": "2cf00040",
   "metadata": {},
   "source": [
    "Vamos iniciar o ambiente Spark. Para isso vamos:\n",
    "\n",
    "1) Criar um objeto de configuração do ambiente Spark. Nossa configuração será simples: vamos especificar que o nome da nossa aplicação Spark é \"Minha aplicação\", e que o *master node* é a máquina local, usando todos os *cores* disponíveis. Aplicações reais de Spark são configuradas de modo ligeiramente diferente: ao especificar o *master node* passamos uma URL real, com o endereço do nó gerente do *cluster* Spark.\n",
    "\n",
    "2) Vamos criar um objeto do tipo `SparkContext` com essa configuração"
   ]
  },
  {
   "cell_type": "code",
   "execution_count": 1,
   "id": "5d715baf",
   "metadata": {
    "tags": []
   },
   "outputs": [],
   "source": [
    "import pyspark\n",
    "\n",
    "conf = pyspark.SparkConf()\n",
    "conf.setAppName('Minha aplicação')\n",
    "conf.setMaster('local[*]')\n",
    "\n",
    "sc = pyspark.SparkContext(conf=conf)"
   ]
  },
  {
   "cell_type": "markdown",
   "id": "a03de347",
   "metadata": {},
   "source": [
    "O `SparkContext` é a nossa porta de entrada para o cluster Spark, ele será a raiz de todas as nossas operações com o Spark."
   ]
  },
  {
   "cell_type": "code",
   "execution_count": 2,
   "id": "622e8944",
   "metadata": {
    "tags": []
   },
   "outputs": [
    {
     "data": {
      "text/html": [
       "\n",
       "        <div>\n",
       "            <p><b>SparkContext</b></p>\n",
       "\n",
       "            <p><a href=\"http://57abdf4b76f5:4040\">Spark UI</a></p>\n",
       "\n",
       "            <dl>\n",
       "              <dt>Version</dt>\n",
       "                <dd><code>v3.4.0</code></dd>\n",
       "              <dt>Master</dt>\n",
       "                <dd><code>local[*]</code></dd>\n",
       "              <dt>AppName</dt>\n",
       "                <dd><code>Minha aplicação</code></dd>\n",
       "            </dl>\n",
       "        </div>\n",
       "        "
      ],
      "text/plain": [
       "<SparkContext master=local[*] appName=Minha aplicação>"
      ]
     },
     "execution_count": 2,
     "metadata": {},
     "output_type": "execute_result"
    }
   ],
   "source": [
    "sc"
   ]
  },
  {
   "cell_type": "markdown",
   "id": "3480f810",
   "metadata": {},
   "source": [
    "O link acima provavelmente não funcionará porque ele se refere à porta 4040 interna do container (portanto a URL está com endereço interno). Porém fizemos o mapeamento da porta 4040 interna para a porta 4040 externa, logo você pode acessar o *dashboard* do Spark no endereço http://localhost:4040\n",
    "\n",
    "<center><img src=\"./spark_dashboard.png\" width=800/></center>"
   ]
  },
  {
   "cell_type": "markdown",
   "id": "a826a2e7",
   "metadata": {},
   "source": [
    "## Lendo os dados"
   ]
  },
  {
   "cell_type": "markdown",
   "id": "835acd21",
   "metadata": {},
   "source": [
    "Vamos começar lendo o arquivo de reviews e gravando o resultado em formato pickle, mais amigável."
   ]
  },
  {
   "cell_type": "code",
   "execution_count": 3,
   "id": "e11ad279",
   "metadata": {
    "tags": []
   },
   "outputs": [],
   "source": [
    "def parse_line(line):\n",
    "    parts = line[1:-1].split('\",\"')\n",
    "    sentiment = int(parts[0])\n",
    "    title = parts[1].replace('\"\"', '\"')\n",
    "    body = parts[2].replace('\"\"', '\"')\n",
    "    return (sentiment, title, body)\n",
    "\n",
    "rdd = sc.textFile('train.csv').map(parse_line)"
   ]
  },
  {
   "cell_type": "code",
   "execution_count": 4,
   "id": "22ae2727",
   "metadata": {
    "tags": []
   },
   "outputs": [
    {
     "data": {
      "text/plain": [
       "3600000"
      ]
     },
     "execution_count": 4,
     "metadata": {},
     "output_type": "execute_result"
    }
   ],
   "source": [
    "rdd.count()"
   ]
  },
  {
   "cell_type": "code",
   "execution_count": 5,
   "id": "5a3ed963",
   "metadata": {
    "tags": []
   },
   "outputs": [
    {
     "data": {
      "text/plain": [
       "[(2,\n",
       "  'Stuning even for the non-gamer',\n",
       "  'This sound track was beautiful! It paints the senery in your mind so well I would recomend it even to people who hate vid. game music! I have played the game Chrono Cross but out of all of the games I have ever played it has the best music! It backs away from crude keyboarding and takes a fresher step with grate guitars and soulful orchestras. It would impress anyone who cares to listen! ^_^')]"
      ]
     },
     "execution_count": 5,
     "metadata": {},
     "output_type": "execute_result"
    }
   ],
   "source": [
    "rdd.take(1)"
   ]
  },
  {
   "cell_type": "markdown",
   "id": "1b333181",
   "metadata": {},
   "source": [
    "Agora vamos gravar no formato pickle, para facilitar os trabalhos futuros. Após gravar o arquivo, não mais rode as células desta primeira etapa!"
   ]
  },
  {
   "cell_type": "code",
   "execution_count": 11,
   "id": "e05822e1",
   "metadata": {
    "tags": []
   },
   "outputs": [],
   "source": [
    "rdd.saveAsPickleFile('reviews.pickle')"
   ]
  },
  {
   "cell_type": "markdown",
   "id": "7b921f3b",
   "metadata": {},
   "source": [
    "## Um classificador Naive-Bayes"
   ]
  },
  {
   "cell_type": "markdown",
   "id": "3ed0d67e",
   "metadata": {},
   "source": [
    "Vamos ler o arquivo pickle gravado anteriormente:"
   ]
  },
  {
   "cell_type": "code",
   "execution_count": 6,
   "id": "57ce7767",
   "metadata": {
    "tags": []
   },
   "outputs": [],
   "source": [
    "rdd = sc.pickleFile('reviews.pickle')"
   ]
  },
  {
   "cell_type": "code",
   "execution_count": 7,
   "id": "2c32fbac",
   "metadata": {
    "tags": []
   },
   "outputs": [
    {
     "data": {
      "text/plain": [
       "3600000"
      ]
     },
     "execution_count": 7,
     "metadata": {},
     "output_type": "execute_result"
    }
   ],
   "source": [
    "rdd.count()"
   ]
  },
  {
   "cell_type": "code",
   "execution_count": 8,
   "id": "87f8007a",
   "metadata": {
    "tags": []
   },
   "outputs": [
    {
     "data": {
      "text/plain": [
       "[(2,\n",
       "  'Stuning even for the non-gamer',\n",
       "  'This sound track was beautiful! It paints the senery in your mind so well I would recomend it even to people who hate vid. game music! I have played the game Chrono Cross but out of all of the games I have ever played it has the best music! It backs away from crude keyboarding and takes a fresher step with grate guitars and soulful orchestras. It would impress anyone who cares to listen! ^_^')]"
      ]
     },
     "execution_count": 8,
     "metadata": {},
     "output_type": "execute_result"
    }
   ],
   "source": [
    "rdd.take(1)"
   ]
  },
  {
   "cell_type": "markdown",
   "id": "7ca2190f",
   "metadata": {},
   "source": [
    "Agora, complete as tarefas em sequencia para construir o classificador Naive-Bayes:"
   ]
  },
  {
   "cell_type": "markdown",
   "id": "6bc52af9",
   "metadata": {},
   "source": [
    "### Fase 1"
   ]
  },
  {
   "cell_type": "markdown",
   "id": "c2bba505",
   "metadata": {},
   "source": [
    "#### Tarefa"
   ]
  },
  {
   "cell_type": "markdown",
   "id": "bc7622a7",
   "metadata": {},
   "source": [
    "Construa uma função que recebe um RDD no formato do RDD original e retorna um RDD no qual cada item é um par (palavra, contagem)."
   ]
  },
  {
   "cell_type": "code",
   "execution_count": 9,
   "id": "1c7b1d32",
   "metadata": {
    "tags": []
   },
   "outputs": [],
   "source": [
    "def contar_palavras(rdd):\n",
    "    # Divide cada linha em palavras e conta a ocorrência de cada palavra\n",
    "    contagem_palavras = rdd.flatMap(lambda linha: linha[1].split() + linha[2].split()) \\\n",
    "                          .map(lambda palavra: (palavra, 1)) \\\n",
    "                          .reduceByKey(lambda x, y: x + y)\n",
    "    \n",
    "    return contagem_palavras"
   ]
  },
  {
   "cell_type": "code",
   "execution_count": 10,
   "id": "77e0e75e",
   "metadata": {
    "tags": []
   },
   "outputs": [],
   "source": [
    "resultado = contar_palavras(rdd)"
   ]
  },
  {
   "cell_type": "code",
   "execution_count": null,
   "id": "65713a48",
   "metadata": {
    "tags": []
   },
   "outputs": [],
   "source": [
    "resultado.count()"
   ]
  },
  {
   "cell_type": "code",
   "execution_count": null,
   "id": "91afc36b",
   "metadata": {
    "tags": []
   },
   "outputs": [],
   "source": [
    "resultado.take(1)"
   ]
  },
  {
   "cell_type": "markdown",
   "id": "ff402d32",
   "metadata": {},
   "source": [
    "#### Tarefa"
   ]
  },
  {
   "cell_type": "markdown",
   "id": "654fad88",
   "metadata": {},
   "source": [
    "Construa uma função que recebe o RDD (palavra, contagem) construido anteriormente e retorna um RDD no qual cada item é um par (palavra, $\\log_{10}\\left(c \\, / \\, T\\right)$), onde $c$ é a contagem daquela palavra e $T$ é a soma das contagens de palavra."
   ]
  },
  {
   "cell_type": "code",
   "execution_count": null,
   "id": "7871ecbe",
   "metadata": {
    "tags": []
   },
   "outputs": [],
   "source": [
    "import math\n",
    "\n",
    "def calcular_log(rdd):\n",
    "    # Calcula a soma total das contagens\n",
    "    soma_total = rdd.map(lambda item: item[1]).sum()\n",
    "    \n",
    "    # Calcula o logaritmo da razão para cada palavra\n",
    "    resultado = rdd.map(lambda c: (c[0], math.log(c[1] / soma_total)))\n",
    "    \n",
    "    return resultado"
   ]
  },
  {
   "cell_type": "code",
   "execution_count": null,
   "id": "182e20c7",
   "metadata": {
    "tags": []
   },
   "outputs": [],
   "source": [
    "resultado2 = calcular_log(resultado)"
   ]
  },
  {
   "cell_type": "code",
   "execution_count": null,
   "id": "bcaca7b0",
   "metadata": {
    "tags": []
   },
   "outputs": [],
   "source": [
    "resultado2.count()"
   ]
  },
  {
   "cell_type": "code",
   "execution_count": null,
   "id": "9be7c65e",
   "metadata": {
    "tags": []
   },
   "outputs": [],
   "source": [
    "resultado2.take(2)"
   ]
  },
  {
   "cell_type": "markdown",
   "id": "b3aa0697",
   "metadata": {},
   "source": [
    "#### Tarefa"
   ]
  },
  {
   "cell_type": "markdown",
   "id": "56f6894d",
   "metadata": {},
   "source": [
    "Separe o RDD original em dois RDDs: o dos reviews positivos e o dos negativos. Em seguida, use as funções anteriores para construir RDDs que contem os pares (palavra, $\\log_{10}\\left(c \\, / \\, T\\right)$)"
   ]
  },
  {
   "cell_type": "code",
   "execution_count": null,
   "id": "992f88e7",
   "metadata": {
    "tags": []
   },
   "outputs": [],
   "source": [
    "def separar_reviews_positivos_negativos(rdd):\n",
    "    # Filtra os reviews positivos\n",
    "    positivos_rdd = rdd.filter(lambda item: item[0] == 2)\n",
    "    \n",
    "    # Filtra os reviews negativos\n",
    "    negativos_rdd = rdd.filter(lambda item: item[0] == 1)\n",
    "    \n",
    "    return positivos_rdd, negativos_rdd"
   ]
  },
  {
   "cell_type": "code",
   "execution_count": null,
   "id": "d6e99538",
   "metadata": {
    "tags": []
   },
   "outputs": [],
   "source": [
    "positivos_rdd, negativos_rdd = separar_reviews_positivos_negativos(rdd)"
   ]
  },
  {
   "cell_type": "code",
   "execution_count": null,
   "id": "a52852b6",
   "metadata": {
    "tags": []
   },
   "outputs": [],
   "source": [
    "resultado_positivos = calcular_log(contar_palavras(positivos_rdd))\n",
    "resultado_negativos = calcular_log(contar_palavras(negativos_rdd))"
   ]
  },
  {
   "cell_type": "code",
   "execution_count": null,
   "id": "dbab4ce3",
   "metadata": {
    "tags": []
   },
   "outputs": [],
   "source": [
    "positivos_rdd.take(1), negativos_rdd.take(1)"
   ]
  },
  {
   "cell_type": "code",
   "execution_count": null,
   "id": "986d8bcb",
   "metadata": {
    "tags": []
   },
   "outputs": [],
   "source": [
    "resultado_positivos.take(1), resultado_negativos.take(1)"
   ]
  },
  {
   "cell_type": "markdown",
   "id": "f579ada6",
   "metadata": {},
   "source": [
    "### Tarefa"
   ]
  },
  {
   "cell_type": "markdown",
   "id": "3c6136c8",
   "metadata": {},
   "source": [
    "Use o `.fullOuterJoin()` dos RDDs para construir um RDD unificado, no qual cada item é da forma (palavra, log_prob_positivo, log_prob_negativo). \"Baixe\" esse resultado final usando `.collect()`."
   ]
  },
  {
   "cell_type": "code",
   "execution_count": null,
   "id": "085d22da",
   "metadata": {
    "tags": []
   },
   "outputs": [],
   "source": [
    "unificado_rdd = resultado_positivos.fullOuterJoin(resultado_negativos)\n",
    "\n",
    "resultado_final = unificado_rdd.map(lambda item: (item[0], item[1][0], item[1][1]))\n",
    "\n",
    "resultado_final_collected = resultado_final.collect()"
   ]
  },
  {
   "cell_type": "code",
   "execution_count": null,
   "id": "28d0736a",
   "metadata": {
    "tags": []
   },
   "outputs": [],
   "source": [
    "resultado_final_collected[:5]"
   ]
  },
  {
   "cell_type": "markdown",
   "id": "236465cc",
   "metadata": {},
   "source": [
    "#### Tarefa"
   ]
  },
  {
   "cell_type": "markdown",
   "id": "1fa9bbe0",
   "metadata": {},
   "source": [
    "Para uma dada string, determine se ela é um review positivo ou negativo usando os RDDs acima. Lembre-se de como funciona o classificador Naive-Bayes: http://stanford.edu/~jurafsky/slp3/slides/7_NB.pdf, consulte tambem suas notas de aula de Ciência dos Dados!"
   ]
  },
  {
   "cell_type": "code",
   "execution_count": null,
   "id": "5627b084",
   "metadata": {
    "tags": []
   },
   "outputs": [],
   "source": [
    "def classificar_review(review, resultado_positivos, resultado_negativos):\n",
    "    # Divide o review em palavras\n",
    "    palavras = review.lower().split(\" \")\n",
    "    \n",
    "    # Calcula a probabilidade do review ser positivo\n",
    "    probabilidade_positivo = sum([resultado_positivos[palavra] for palavra in palavras if palavra in resultado_positivos])\n",
    "    \n",
    "    # Calcula a probabilidade do review ser negativo\n",
    "    probabilidade_negativo = sum([resultado_negativos[palavra] for palavra in palavras if palavra in resultado_negativos])\n",
    "    \n",
    "    # Verifica qual probabilidade é maior e retorna a classificação correspondente\n",
    "    if probabilidade_positivo > probabilidade_negativo:\n",
    "        return \"Positivo\"\n",
    "    else:\n",
    "        return \"Negativo\"\n"
   ]
  },
  {
   "cell_type": "code",
   "execution_count": null,
   "id": "c1f82588",
   "metadata": {
    "tags": []
   },
   "outputs": [],
   "source": [
    "review = \"Esta é uma ótima experiência, adorei!\"\n",
    "classificacao = classificar_review(review, resultado_positivos.collectAsMap(), resultado_negativos.collectAsMap())\n",
    "print(\"Classificação:\", classificacao)"
   ]
  },
  {
   "cell_type": "markdown",
   "id": "516d85ac",
   "metadata": {},
   "source": [
    "### Fase 2"
   ]
  },
  {
   "cell_type": "markdown",
   "id": "fc09675d",
   "metadata": {},
   "source": [
    "Agora que temos um classificador Naive-Bayes, vamos explorá-lo um pouco:"
   ]
  },
  {
   "cell_type": "markdown",
   "id": "cfe68dcf",
   "metadata": {},
   "source": [
    "### Tarefa"
   ]
  },
  {
   "cell_type": "markdown",
   "id": "0961f84a",
   "metadata": {},
   "source": [
    "Quais são as 100 palavras que mais indicam negatividade, ou seja, onde a diferença entre a probabilidade da palavra no conjunto dos comentários negativos e positivos é máxima? E quais as 100 palavras de maior positividade? Mostre os resultados na forma de *word clouds*."
   ]
  },
  {
   "cell_type": "code",
   "execution_count": null,
   "id": "9ab10766",
   "metadata": {},
   "outputs": [],
   "source": [
    "rdd_total = resultado_positivos.fullOuterJoin(resultado_negativos)"
   ]
  },
  {
   "cell_type": "code",
   "execution_count": null,
   "id": "5d4345d4",
   "metadata": {},
   "outputs": [],
   "source": [
    "palavras_positivas = rdd_total.filter(lambda x: x[1][0] is not None and x[1][1] is not None).map(lambda x: (x[0], x[1][0] - x[1][1])).takeOrdered(100, key=lambda x: -x[1])\n",
    "palavras_negativas = rdd_total.filter(lambda x: x[1][0] is not None and x[1][1] is not None).map(lambda x: (x[0], x[1][1] - x[1][0])).takeOrdered(100, key=lambda x: -x[1])"
   ]
  },
  {
   "cell_type": "markdown",
   "id": "42262c81",
   "metadata": {},
   "source": [
    "##### `Palavras Positivas`"
   ]
  },
  {
   "cell_type": "code",
   "execution_count": null,
   "id": "78d008b6",
   "metadata": {},
   "outputs": [],
   "source": [
    "from wordcloud import WordCloud\n",
    "import matplotlib.pyplot as plt\n",
    "\n",
    "wordcloud = WordCloud(\n",
    "    width=800, height=800, background_color='white', colormap='viridis',\n",
    "    max_words=100, max_font_size=150\n",
    ").generate_from_frequencies(dict(palavras_positivas))\n",
    "\n",
    "plt.figure(figsize=(10, 10))\n",
    "plt.imshow(wordcloud, interpolation='bilinear')\n",
    "plt.axis(\"off\")\n",
    "plt.tight_layout()\n",
    "plt.show()"
   ]
  },
  {
   "cell_type": "markdown",
   "id": "5cc7dcfd",
   "metadata": {},
   "source": [
    "##### `Palavras Negativas`"
   ]
  },
  {
   "cell_type": "code",
   "execution_count": null,
   "id": "121a534d",
   "metadata": {},
   "outputs": [],
   "source": [
    "wordcloud = WordCloud(\n",
    "    width=800, height=800, background_color='white', colormap='viridis',\n",
    "    max_words=100, max_font_size=150\n",
    ").generate_from_frequencies(dict(palavras_negativas))\n",
    "\n",
    "plt.figure(figsize=(10, 10))\n",
    "plt.imshow(wordcloud, interpolation='bilinear')\n",
    "plt.axis(\"off\")\n",
    "plt.tight_layout()\n",
    "plt.show()"
   ]
  },
  {
   "cell_type": "markdown",
   "id": "34a65cd3",
   "metadata": {},
   "source": [
    "### Tarefa desafio!"
   ]
  },
  {
   "cell_type": "markdown",
   "id": "192d7f4b",
   "metadata": {},
   "source": [
    "Qual o desempenho do classificador (acurácia)? Para medir sua acurácia:\n",
    "\n",
    "- Separe os reviews em dois conjuntos: treinamente e teste\n",
    "- Repita o \"treinamento\" do classificador com o conjunto de treinamento\n",
    "- Para cada review do conjunto de teste, determine se é positiva ou negativa de acordo com o classificador\n",
    "- Determine a acurácia\n",
    "\n",
    "Esta não é uma tarefa trivial. Não basta fazer um `for` para determinar a classe de cada review de teste: isso demoraria uma eternidade. Você tem que usar variáveis \"broadcast\" do Spark para enviar uma cópia da tabela de frequencias para cada *core* do executor."
   ]
  },
  {
   "cell_type": "code",
   "execution_count": null,
   "id": "9adee254",
   "metadata": {},
   "outputs": [],
   "source": [
    "# Separe os reviews em dois conjuntos: treinamente e teste\n",
    "treino, teste = rdd.randomSplit([0.8, 0.2], seed=42)"
   ]
  },
  {
   "cell_type": "code",
   "execution_count": null,
   "id": "25698bf5",
   "metadata": {},
   "outputs": [],
   "source": [
    "def classifica_desafio1(texto, recebe_treino):\n",
    "    treino = recebe_treino.value\n",
    "    \n",
    "    resultado_positivos = treino[0]\n",
    "    resultado_negativos = treino[1]\n",
    "    \n",
    "    palavras = texto.lower().split(\" \")\n",
    "    \n",
    "    probabilidade_positivo = sum([resultado_positivos.get(palavra, 0) for palavra in palavras])\n",
    "    \n",
    "    probabilidade_negativo = sum([resultado_negativos.get(palavra, 0) for palavra in palavras])\n",
    "    \n",
    "    if probabilidade_positivo > probabilidade_negativo:\n",
    "        return \"Positivo\", probabilidade_positivo\n",
    "    else:\n",
    "        return \"Negativo\", probabilidade_negativo\n"
   ]
  },
  {
   "cell_type": "code",
   "execution_count": null,
   "id": "9c34b31c",
   "metadata": {},
   "outputs": [],
   "source": [
    "# Repita o \"treinamento\" do classificador com o conjunto de treinamento\n",
    "positivos_treino, negativos_treino = separar_reviews_positivos_negativos(treino)\n",
    "resultado_positivos_treino = calcular_log(contar_palavras(positivos_treino))\n",
    "resultado_negativos_treino = calcular_log(contar_palavras(negativos_treino))\n",
    "treino_total = resultado_positivos_treino.fullOuterJoin(resultado_negativos_treino)\n",
    "palavras_total = treino_total.map(lambda x: (x[0], x[1][0], x[1][1])).collect()\n",
    "\n",
    "# Para cada review do conjunto de teste, determine se é positiva ou negativa de acordo com o classificador\n",
    "palavras_total_dic = {}\n",
    "for palavra in palavras_total:\n",
    "    palavras_total_dic[palavra[0]] = palavra[1:]\n",
    "\n",
    "treino_para_classif = sc.broadcast(palavras_total_dic)\n",
    "classifica_desafio1_result = lambda texto: classifica_desafio1(texto, recebe_treino=treino_para_classif)\n",
    "classifica_teste = teste.map(lambda x: (x[0], x[1], classifica_desafio1_result(x[1])))"
   ]
  },
  {
   "cell_type": "code",
   "execution_count": null,
   "id": "9ba013a9",
   "metadata": {},
   "outputs": [],
   "source": [
    "# Determine a acurácia\n",
    "x = classifica_teste.filter(lambda x: x[0] == x[2][0]).count()\n",
    "total = classifica_teste.count()\n",
    "acuracia = x / total\n",
    "print(f'A acurácia foi de: {acuracia*100:.3f}%')"
   ]
  },
  {
   "cell_type": "markdown",
   "id": "75ca9f92",
   "metadata": {},
   "source": [
    "### Tarefa desafio!"
   ]
  },
  {
   "cell_type": "markdown",
   "id": "0486bb4d",
   "metadata": {},
   "source": [
    "Implemente Laplace smoothing"
   ]
  },
  {
   "cell_type": "code",
   "execution_count": null,
   "id": "41df8289",
   "metadata": {},
   "outputs": [],
   "source": []
  },
  {
   "cell_type": "markdown",
   "id": "7b7cb219",
   "metadata": {},
   "source": [
    "## Rubrica de avaliação"
   ]
  },
  {
   "cell_type": "markdown",
   "id": "a0be52ad",
   "metadata": {},
   "source": [
    "- I: groselha, falha crítica, ou não entregou nada\n",
    "- D: Fez uma tentativa honesta de fazer todos os itens da fase 1, mas tem erros\n",
    "- C: Fase 1 completa\n",
    "- B: Fase 2, faltando apenas um desafio\n",
    "- A: Fase 2 completa"
   ]
  },
  {
   "cell_type": "code",
   "execution_count": null,
   "id": "900e3816",
   "metadata": {},
   "outputs": [],
   "source": []
  }
 ],
 "metadata": {
  "kernelspec": {
   "display_name": "Python 3 (ipykernel)",
   "language": "python",
   "name": "python3"
  },
  "language_info": {
   "codemirror_mode": {
    "name": "ipython",
    "version": 3
   },
   "file_extension": ".py",
   "mimetype": "text/x-python",
   "name": "python",
   "nbconvert_exporter": "python",
   "pygments_lexer": "ipython3",
   "version": "3.8.3"
  },
  "vscode": {
   "interpreter": {
    "hash": "e7370f93d1d0cde622a1f8e1c04877d8463912d04d973331ad4851f04de6915a"
   }
  }
 },
 "nbformat": 4,
 "nbformat_minor": 5
}
